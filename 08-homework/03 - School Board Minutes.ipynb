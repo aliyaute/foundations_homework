{
 "cells": [
  {
   "cell_type": "markdown",
   "metadata": {},
   "source": [
    "# School Board Minutes\n",
    "\n",
    "Scrape all of the school board minutes from http://www.mineral.k12.nv.us/pages/School_Board_Minutes\n",
    "\n",
    "Save a CSV called `minutes.csv` with the date and the URL to the file. The date should be formatted as YYYY-MM-DD.\n",
    "\n",
    "**Bonus:** Download the PDF files\n",
    "\n",
    "**Bonus 2:** Use [PDF OCR X](https://solutions.weblite.ca/pdfocrx/index.php) on one of the PDF files and see if it can be converted into text successfully.\n",
    "\n",
    "* **Hint:** If you're just looking for links, there are a lot of other links on that page! Can you look at the link to know whether it links or minutes or not? You'll want to use an \"if\" statement.\n",
    "* **Hint:** You could also filter out bad links later on using pandas instead of when scraping\n",
    "* **Hint:** If you get a weird error that you can't really figure out, you can always tell Python to just ignore it using `try` and `except`, like below. Python will try to do the stuff inside of 'try', but if it hits an error it will skip right out.\n",
    "* **Hint:** Remember the codes at http://strftime.org\n",
    "* **Hint:** If you have a date that you've parsed, you can use `.dt.strftime` to turn it into a specially-formatted string. You use the same codes (like %B etc) that you use for converting strings into dates.\n",
    "\n",
    "```python\n",
    "try:\n",
    "  blah blah your code\n",
    "  your code\n",
    "  your code\n",
    "except:\n",
    "  pass\n",
    "```"
   ]
  },
  {
   "cell_type": "code",
   "execution_count": 1,
   "metadata": {},
   "outputs": [],
   "source": [
    "import requests\n",
    "from bs4 import BeautifulSoup"
   ]
  },
  {
   "cell_type": "code",
   "execution_count": 2,
   "metadata": {},
   "outputs": [],
   "source": [
    "response = requests.get(\"http://www.mineral.k12.nv.us/pages/School_Board_Minutes\")\n",
    "doc = BeautifulSoup(response.text)"
   ]
  },
  {
   "cell_type": "code",
   "execution_count": 13,
   "metadata": {},
   "outputs": [],
   "source": [
    "links = doc.find(id='livesite-page-content-left').find_all('a')"
   ]
  },
  {
   "cell_type": "code",
   "execution_count": 15,
   "metadata": {},
   "outputs": [
    {
     "name": "stdout",
     "output_type": "stream",
     "text": [
      "[{'Date': ' Infinit Campus Parent/Student Portal', 'Link': 'https://nvcloud1.infinitecampus.org/campus/portal/mineral.jsp'}, {'Date': ' Infinite Campus Teacher Portal', 'Link': 'https://nvcloud1.infinitecampus.org/campus/mineral.jsp'}, {'Date': 'Web Email', 'Link': 'http://mail.mineral.k12.nv.us/'}, {'Date': 'Home', 'Link': '/'}, {'Date': 'School Board', 'Link': '/pages/School_Board_Connection'}, {'Date': 'Schools', 'Link': '/pages/livesite_template_overview'}, {'Date': 'Students', 'Link': '/pages/new_releases'}, {'Date': 'Parents', 'Link': '/pages/livesite_template_overview'}, {'Date': 'District', 'Link': '/pages/district_office'}, {'Date': 'Transportation', 'Link': '/pages/transportation'}, {'Date': 'Maintenance', 'Link': '/pages/Maintenance'}, {'Date': 'Finance', 'Link': '/pages/finance'}, {'Date': 'Committees', 'Link': '/pages/Committees'}, {'Date': 'Employment', 'Link': '/pages/employment'}, {'Date': 'Community', 'Link': '/pages/Community_Links'}, {'Date': 'Community', 'Link': '/pages/Food Service_Links'}, {'Date': 'Family Educational Rights and Privacy Act (FERPA)', 'Link': 'https://www2.ed.gov/policy/gen/guid/fpco/ferpa/index.html'}, {'Date': 'http://www.doe.nv.gov/Assessments', 'Link': 'http://www.doe.nv.gov/Assessments/'}, {'Date': 'https://online.nvdoe.org/#/VerifyLicense', 'Link': 'https://online.nvdoe.org/#/VerifyLicense'}, {'Date': 'Paraprofessional Qualifications (775) 945-2403 x16', 'Link': 'http://www.ets.org/parapro'}, {'Date': 'Request for High School Revised Diploma - Removal of HSPE per AB 7', 'Link': 'http://www.mineral.k12.nv.us/files/diploma_requesst.pdf'}, {'Date': 'Print out form and return to the Mineral County School District Office.', 'Link': 'http://www.mineral.k12.nv.us/files/diploma_requesst.pdf'}, {'Date': 'June 4, 2019', 'Link': '/files/6.4.19_minutes.pdf'}, {'Date': 'May 28, 2019', 'Link': '/files/5.28.19_minutes.pdf'}, {'Date': 'May 7, 2019', 'Link': '/files/5.7.19_minutes.pdf'}, {'Date': 'April 23, 2019', 'Link': '/files/4.23.19_minutes.pdf'}, {'Date': 'April 8, 2019', 'Link': '/files/4.8.19_minutes.pdf'}, {'Date': 'March 19, 2019', 'Link': '/files/3.5.19_minutes.pdf'}, {'Date': 'March 5, 2019', 'Link': '/files/3.5.19.pdf'}, {'Date': 'February 26, 2019', 'Link': '/files/2.26.19_minutes.pdf'}, {'Date': 'February 5, 2019', 'Link': '/files/2.5.19_minutes.pdf'}, {'Date': 'January 22, 2019', 'Link': '/files/January_22_minutes.pdf'}, {'Date': 'January 8, 2019', 'Link': '/files/January_8_minutes.pdf'}, {'Date': 'December 4, 2018', 'Link': '/files/12.4.18_minutes.pdf'}, {'Date': 'November 20, 2018', 'Link': '/files/11.20.18.pdf'}, {'Date': 'September 25, 2018', 'Link': '/files/9.25.18_minutes.pdf'}, {'Date': 'September 13, 2018\\xa0', 'Link': '/files/9.13.18_minutes.pdf'}, {'Date': 'September 4, 2018\\xa0', 'Link': '/files/9.4.18.pdf'}, {'Date': 'August 21, 2018\\xa0', 'Link': '/files/8.21.18_minutes.pdf'}, {'Date': 'August 7, 2018\\xa0', 'Link': '/files/8.7.18_minutes.pdf'}, {'Date': 'July 24, 2018', 'Link': '/files/7.24.18_minutes.pdf'}, {'Date': 'July 10, 2018\\xa0\\xa0', 'Link': '/files/7.10.18_minutes.pdf'}, {'Date': 'June 28, 2018\\xa0', 'Link': '/files/6.28.18.pdf'}, {'Date': 'June 22, 2018\\xa0', 'Link': '/files/6.22.18_minutes.pdf'}, {'Date': 'June 21, 2018\\xa0', 'Link': '/files/6.21.18.pdf'}, {'Date': 'June 19, 2108\\xa0', 'Link': '/files/6.19.18_minutes.pdf'}, {'Date': 'May 29, 2018\\xa0', 'Link': '/files/5.29.18_minutes.pdf'}, {'Date': 'April 17, 2018', 'Link': '/files/4.17.18.pdf'}, {'Date': 'April 2, 2018\\xa0', 'Link': '/files/april_2,_2018_minutes.pdf'}, {'Date': 'March 8, 2018', 'Link': '/files/3.8.18.pdf'}, {'Date': 'March 6, 2018', 'Link': '/files/march_6,_2018_minutes.pdf'}, {'Date': 'February 20, 2018\\xa0', 'Link': '/files/feb_20,_2108_minutes.pdf'}, {'Date': 'February 6, 2018\\xa0', 'Link': '/files/2.6.18_minutes.pdf'}, {'Date': 'January 16, 2018', 'Link': '/files/january_16,_2018_minutes.pdf'}, {'Date': '', 'Link': '/files/2.6.18_minutes.pdf'}, {'Date': 'January 5, 2017', 'Link': '/files/1.5.17_minutes.pdf'}, {'Date': 'January 26, 2017', 'Link': '/files/1.26.17_minutes.pdf'}, {'Date': 'February 2, 2017', 'Link': '/files/2.2.17_minutes.pdf'}, {'Date': 'February 16, 2017', 'Link': '/files/2.16.17_minutes.pdf'}, {'Date': 'March 2, 2017', 'Link': '/files/3.2.17__minutes.pdf'}, {'Date': 'March 16, 2017', 'Link': '/files/3.16.17_minutes.pdf'}, {'Date': 'April 12, 2017', 'Link': '/files/4.12.17_minutes.pdf'}, {'Date': 'May 1, 2017', 'Link': '/files/5.1.17_Minutes.pdf'}, {'Date': 'May 4, 2017', 'Link': '/files/5.4.17_minutes.pdf'}, {'Date': '', 'Link': None}, {'Date': 'Tweet', 'Link': 'http://twitter.com/share'}, {'Date': 'School Board Members', 'Link': 'http://www.mineral.k12.nv.us/pages/School_Board_Connection'}, {'Date': 'Meeting Agendas', 'Link': 'http://www.mineral.k12.nv.us/pages/School_Board_Agendas'}, {'Date': '2019 Board Meeting Calendar', 'Link': '/files/2017-_Draft_School_Board_3.pdf'}, {'Date': 'Board Agenda Request Form', 'Link': '/files/AGENDA_ITEM_REQUEST_FORM.pdf'}, {'Date': 'Agenda Support Material Request\\xa0', 'Link': '/files/Board_Back-Up_Request_Form.pdf'}, {'Date': 'Web Accessibility', 'Link': '/files/Mineral_County_School_District_Proposed_Web_Accessibility_Notice_POSTING_VERSION_11.20.17.pdf'}, {'Date': 'http://www.doe.nv.gov/uploadedFiles/ndedoenvgov/content/News__Media/Press_Releases/2018docs/2018_Rising_Stars_Schoolscsi.pdf', 'Link': 'http://www.doe.nv.gov/uploadedFiles/ndedoenvgov/content/News__Media/Press_Releases/2018docs/2018_Rising_Stars_Schoolscsi.pdf'}, {'Date': 'http://www.doe.nv.gov/ASD/Parent_Petition/', 'Link': 'http://www.doe.nv.gov/ASD/Parent_Petition/'}, {'Date': 'liveSite', 'Link': 'http://www.camelback.net'}, {'Date': 'Curriculum', 'Link': 'http://www.mineral.k12.nv.us/pages/curriculum'}, {'Date': 'Employment', 'Link': '/pages/Employment'}, {'Date': 'Accountability', 'Link': '/pages/Accountability'}, {'Date': 'Infinite Campus for Teachers and Administrators', 'Link': 'https://nvcloud1.infinitecampus.org/campus/mineral.jsp'}, {'Date': 'Grants', 'Link': '/pages/Grants'}, {'Date': 'Links', 'Link': '/pages/Links'}, {'Date': 'Schools', 'Link': '/pages/Schools'}, {'Date': '', 'Link': '/pages/Schools'}, {'Date': 'Hawthorne Elementary School PK-6', 'Link': '/pages/HESUPDATED'}, {'Date': 'Hawthorne Junior High School 7-8', 'Link': '/pages/HJHS'}, {'Date': 'Mineral County HS', 'Link': '/pages/MCHS'}, {'Date': 'Schurz K-6', 'Link': '/pages/SES'}, {'Date': '', 'Link': '/pages/SES'}, {'Date': 'Adult Education', 'Link': '/pages/Adult_Ed/GED'}, {'Date': 'Hawthorne Elementary School PK-5', 'Link': '/pages/HESUPDATED'}, {'Date': 'Hawthorne Junior High School 6-8', 'Link': '/pages/HJHS'}, {'Date': 'Mineral County HS', 'Link': '/pages/MCHS'}, {'Date': 'Schurz K-8 ', 'Link': '/pages/SES'}, {'Date': 'Hawthorne Elementary School PK-5', 'Link': '/pages/HESUPDATED'}, {'Date': 'Hawthorne Junior High School 6-8', 'Link': '/pages/HJHS'}, {'Date': 'Mineral County HS', 'Link': '/pages/MCHS'}, {'Date': 'Schurz K-8 ', 'Link': '/pages/SES'}, {'Date': 'Career Exploration', 'Link': '/pages/career2'}, {'Date': 'Education Plan', 'Link': '/files/Student_Planning_Folder.pdf'}, {'Date': 'Career Planning', 'Link': '/pages/career'}, {'Date': 'Student Resources', 'Link': '/pages/Student_Resources'}, {'Date': 'GEAR UP', 'Link': '/pages/GEAR_UP'}, {'Date': 'Infinite Campus Parent/Student Logon', 'Link': 'https://nvcloud1.infinitecampus.org/campus/portal/mineral.jsp'}, {'Date': 'Education Plan', 'Link': '/files/Student_Planning_Folder.pdf'}, {'Date': 'Career Planning', 'Link': '/pages/career'}, {'Date': 'Teacher Pages', 'Link': '/pages/faculty_directory'}, {'Date': '16-17 School Calendar 4 Day', 'Link': '/files/2016-17_4_Day_Calendar.pdf'}, {'Date': '16-17 School Calendar 5 Day', 'Link': '/files/2016-17_5_Day_Calendar.pdf'}, {'Date': 'School Board', 'Link': '/pages/School_Board_Connection'}, {'Date': 'School Board Meeting Agendas', 'Link': '/pages/School_Board_Agendas'}, {'Date': 'School Board Meeting Minutes', 'Link': '/pages/School_Board_Minutes'}]\n"
     ]
    }
   ],
   "source": [
    "minutes = []\n",
    "\n",
    "for item in items:\n",
    "    row = {}\n",
    "    \n",
    "    row['Date'] = item.text\n",
    "    row['Link'] = item.get('href')\n",
    "    \n",
    "    \n",
    "    minutes.append(row)\n",
    "    \n",
    "print(minutes)"
   ]
  },
  {
   "cell_type": "code",
   "execution_count": 10,
   "metadata": {},
   "outputs": [
    {
     "name": "stdout",
     "output_type": "stream",
     "text": [
      "[<a href=\"https://nvcloud1.infinitecampus.org/campus/portal/mineral.jsp\"><strong> Infinit Campus Parent/Student Portal</strong></a>, <a href=\"https://nvcloud1.infinitecampus.org/campus/mineral.jsp\"><strong> Infinite Campus Teacher Portal</strong></a>, <a href=\"http://mail.mineral.k12.nv.us/\"><strong>Web Email</strong></a>, <a href=\"/\">Home</a>, <a href=\"/pages/School_Board_Connection\" id=\"menu_7\" onmouseout=\"hide_drop_down_menu('drop_down_menu_7', 'menu_7')\" onmouseover=\"show_drop_down_menu('drop_down_menu_7', 'menu_7')\">School Board</a>, <a href=\"/pages/livesite_template_overview\" id=\"menu_2\" menu_3\"=\"\" onmouseout=\"hide_drop_down_menu('drop_down_menu_3', 'menu_3')\" onmouseover=\"show_drop_down_menu('drop_down_menu_3', 'menu_3')\">Schools</a>, <a href=\"/pages/new_releases\" id=\"menu_5\" onmouseout=\"hide_drop_down_menu('drop_down_menu_5', 'menu_5')\" onmouseover=\"show_drop_down_menu('drop_down_menu_5', 'menu_5')\">Students</a>, <a href=\"/pages/livesite_template_overview\" id=\"menu_6\" onmouseout=\"hide_drop_down_menu('drop_down_menu_6', 'menu_6')\" onmouseover=\"show_drop_down_menu('drop_down_menu_6', 'menu_6')\">Parents</a>, <a href=\"/pages/district_office\" id=\"menu_1\" onmouseout=\"hide_drop_down_menu('drop_down_menu_1', 'menu_1')\" onmouseover=\"show_drop_down_menu('drop_down_menu_1', 'menu_1')\">District</a>, <a href=\"/pages/transportation\" id=\"menu_10\" onmouseout=\"hide_drop_down_menu('drop_down_menu_10', 'menu_10')\" onmouseover=\"show_drop_down_menu('drop_down_menu_10', 'menu_10')\">Transportation</a>, <a href=\"/pages/Maintenance\" id=\"menu_12\" onmouseout=\"hide_drop_down_menu('drop_down_menu_12', 'menu_12')\" onmouseover=\"show_drop_down_menu('drop_down_menu_12', 'menu_12')\">Maintenance</a>, <a href=\"/pages/finance\" id=\"menu_10\" onmouseout=\"hide_drop_down_menu('drop_down_menu_10', 'menu_10')\" onmouseover=\"show_drop_down_menu('drop_down_menu_10', 'menu_10')\">Finance</a>, <a href=\"/pages/Committees\" id=\"menu_9\" onmouseout=\"hide_drop_down_menu('drop_down_menu_9', 'menu_9')\" onmouseover=\"show_drop_down_menu('drop_down_menu_9', 'menu_9')\">Committees</a>, <a href=\"/pages/employment\" id=\"menu_11\" onmouseout=\"hide_drop_down_menu('drop_down_menu_11', 'menu_11')\" onmouseover=\"show_drop_down_menu('drop_down_menu_11', 'menu_11')\">Employment</a>, <a href=\"/pages/Community_Links\" id=\"menu_12\" onmouseout=\"hide_drop_down_menu('drop_down_menu_12', 'menu_12')\" onmouseover=\"show_drop_down_menu('drop_down_menu_12', 'menu_12')\">Community</a>, <a href=\"/pages/Food Service_Links\" id=\"menu_13\" onmouseout=\"hide_drop_down_menu('drop_down_menu_13', 'menu_13')\" onmouseover=\"show_drop_down_menu('drop_down_menu_13', 'menu_13')\">Community</a>, <a href=\"https://www2.ed.gov/policy/gen/guid/fpco/ferpa/index.html\"><span style=\"color: #000000;\">Family Educational Rights and Privacy Act (FERPA)</span></a>, <a href=\"http://www.doe.nv.gov/Assessments/\" style=\"font-size: large; background-color: #ffffff;\"><span style=\"color: #000000;\">http://www.doe.nv.gov/Assessments</span></a>, <a href=\"https://online.nvdoe.org/#/VerifyLicense\"><span style=\"color: #000000;\">https://online.nvdoe.org/#/VerifyLicense</span></a>, <a href=\"http://www.ets.org/parapro\"><span style=\"font-size: medium; color: #3366ff;\"><span style=\"color: #000000;\"><span style=\"font-size: medium;\">Paraprofessional Qualifications (775) 945-2403 x16</span></span></span></a>, <a href=\"http://www.mineral.k12.nv.us/files/diploma_requesst.pdf\"><span style=\"color: #ff0000;\">Request for High School <strong><span style=\"background-color: #ffff00;\">Revised</span></strong> Diploma - Removal of HSPE per AB 7</span></a>, <a href=\"http://www.mineral.k12.nv.us/files/diploma_requesst.pdf\"><span style=\"color: #ff0000;\">Print out form and return to the Mineral County School District Office.</span></a>, <a href=\"/files/6.4.19_minutes.pdf\"><span style=\"color: #000000;\">June 4, 2019</span></a>, <a href=\"/files/5.28.19_minutes.pdf\"><span style=\"color: #000000;\">May 28, 2019</span></a>, <a href=\"/files/5.7.19_minutes.pdf\"><span style=\"color: #000000;\">May 7, 2019</span></a>, <a href=\"/files/4.23.19_minutes.pdf\"><span style=\"color: #000000;\">April 23, 2019</span></a>, <a href=\"/files/4.8.19_minutes.pdf\"><span style=\"color: #000000;\">April 8, 2019</span></a>, <a href=\"/files/3.5.19_minutes.pdf\"><span style=\"color: #000000;\">March 19, 2019</span></a>, <a href=\"/files/3.5.19.pdf\"><span style=\"color: #000000;\">March 5, 2019</span></a>, <a href=\"/files/2.26.19_minutes.pdf\"><span style=\"color: #000000;\">February 26, 2019</span></a>, <a href=\"/files/2.5.19_minutes.pdf\"><span style=\"color: #000000;\">February 5, 2019</span></a>, <a href=\"/files/January_22_minutes.pdf\"><span style=\"color: #000000;\"><span>January 22, 2019</span></span></a>, <a href=\"/files/January_8_minutes.pdf\"><span style=\"color: #000000;\"><span style=\"color: #000000;\">January 8, 2019</span></span></a>, <a href=\"/files/12.4.18_minutes.pdf\"><span style=\"color: #000000;\"><span style=\"color: #000000;\">December 4, 2018</span></span></a>, <a href=\"/files/11.20.18.pdf\"><span style=\"color: #000000;\"><span style=\"color: #000000;\">November 20, 2018</span></span></a>, <a href=\"/files/9.25.18_minutes.pdf\"><span style=\"color: #000000;\">September 25, 2018</span></a>, <a href=\"/files/9.13.18_minutes.pdf\"><span style=\"color: #000000;\"><span style=\"color: #000000;\">September 13, 2018</span> </span></a>, <a href=\"/files/9.4.18.pdf\"><span style=\"color: #000000;\"><span style=\"color: #000000;\">September 4, 2018</span> </span></a>, <a href=\"/files/8.21.18_minutes.pdf\"><span style=\"color: #000000;\"><span style=\"color: #000000;\">August 21, 2018</span> </span></a>, <a href=\"/files/8.7.18_minutes.pdf\"><span style=\"color: #000000;\">August 7, 2018 </span></a>, <a href=\"/files/7.24.18_minutes.pdf\"><span style=\"color: #000000;\">July 24, 2018</span></a>, <a href=\"/files/7.10.18_minutes.pdf\"><span style=\"color: #000000;\"><span style=\"color: #000000;\">July 10, 201</span>8  </span></a>, <a href=\"/files/6.28.18.pdf\"><span style=\"color: #000000;\"><span style=\"color: #000000;\">June 28, 2018</span> </span></a>, <a href=\"/files/6.22.18_minutes.pdf\"><span style=\"color: #000000;\"><span style=\"color: #000000;\">June 22, 2018</span> </span></a>, <a href=\"/files/6.21.18.pdf\"><span style=\"color: #000000;\"><span style=\"color: #000000;\">June 21, 2018</span> </span></a>, <a href=\"/files/6.19.18_minutes.pdf\"><span style=\"color: #000000;\">June 19, 2108</span> </a>, <a href=\"/files/5.29.18_minutes.pdf\"><span style=\"color: #000000;\">May 29, 2018</span> </a>, <a href=\"/files/4.17.18.pdf\"><span style=\"color: #000000;\">April 17, 2018</span></a>, <a href=\"/files/april_2,_2018_minutes.pdf\"><span style=\"color: #000000;\">April 2, 2018 </span></a>, <a href=\"/files/3.8.18.pdf\"><span style=\"color: #000000;\">March 8, 2018</span></a>, <a href=\"/files/march_6,_2018_minutes.pdf\"><span style=\"color: #000000;\">March 6, 2018</span></a>, <a href=\"/files/feb_20,_2108_minutes.pdf\"><span style=\"color: #000000;\"><span style=\"color: #000000;\">February 20, 2018</span> </span></a>, <a href=\"/files/2.6.18_minutes.pdf\"><span style=\"color: #000000;\"><span style=\"color: #000000;\">February 6, 2018</span> </span></a>, <a href=\"/files/january_16,_2018_minutes.pdf\"><span style=\"color: #000000;\">January 16, 2018</span></a>, <a href=\"/files/2.6.18_minutes.pdf\"><span><br/></span></a>, <a href=\"/files/1.5.17_minutes.pdf\"><span style=\"background-color: #ffffff; color: #000000;\">January 5, 2017</span></a>, <a href=\"/files/1.26.17_minutes.pdf\"><span style=\"background-color: #ffffff; color: #000000;\">January 26, 2017</span></a>, <a href=\"/files/2.2.17_minutes.pdf\"><span style=\"background-color: #ffffff; color: #000000;\">February 2, 2017</span></a>, <a href=\"/files/2.16.17_minutes.pdf\"><span style=\"background-color: #ffffff; color: #000000;\">February 16, 2017</span></a>, <a href=\"/files/3.2.17__minutes.pdf\"><span style=\"background-color: #ffffff; color: #000000;\">March 2, 2017</span></a>, <a href=\"/files/3.16.17_minutes.pdf\"><span style=\"background-color: #ffffff; color: #000000;\">March 16, 2017</span></a>, <a href=\"/files/4.12.17_minutes.pdf\"><span style=\"background-color: #ffffff; color: #000000;\">April 12, 2017</span></a>, <a href=\"/files/5.1.17_Minutes.pdf\"><span style=\"background-color: #ffffff; color: #000000;\">May 1, 2017</span></a>, <a href=\"/files/5.4.17_minutes.pdf\"><span style=\"color: #000000;\">May 4, 2017</span></a>, <a addthis:ui_click=\"true\" addthis:url=\"http://www.mineral.k12.nv.us/pages/School_Board_Minutes\" class=\"addthis_counter addthis_pill_style\"></a>, <a class=\"twitter-share-button\" data-count=\"horizontal\" data-url=\"http://www.mineral.k12.nv.us/pages/School_Board_Minutes\" href=\"http://twitter.com/share\">Tweet</a>, <a href=\"http://www.mineral.k12.nv.us/pages/School_Board_Connection\"><span style=\"font-size: medium; color: #000000;\">School Board Members</span></a>, <a href=\"http://www.mineral.k12.nv.us/pages/School_Board_Agendas\"><span style=\"color: #000000;\"><span style=\"font-size: medium;\">Meeting Agendas</span></span></a>, <a href=\"/files/2017-_Draft_School_Board_3.pdf\"><span style=\"font-size: medium; color: #000000;\">2019 Board Meeting Calendar</span></a>, <a href=\"/files/AGENDA_ITEM_REQUEST_FORM.pdf\"><span style=\"color: #000000;\">Board Agenda Request Form</span></a>, <a href=\"/files/Board_Back-Up_Request_Form.pdf\"><span style=\"color: #000000;\">Agenda Support Material Request </span></a>, <a href=\"/files/Mineral_County_School_District_Proposed_Web_Accessibility_Notice_POSTING_VERSION_11.20.17.pdf\"><span style=\"font-family: georgia, palatino; font-size: medium; color: #ff0000;\">Web Accessibility</span></a>, <a href=\"http://www.doe.nv.gov/uploadedFiles/ndedoenvgov/content/News__Media/Press_Releases/2018docs/2018_Rising_Stars_Schoolscsi.pdf\">http://www.doe.nv.gov/uploadedFiles/ndedoenvgov/content/News__Media/Press_Releases/2018docs/2018_Rising_Stars_Schoolscsi.pdf</a>, <a href=\"http://www.doe.nv.gov/ASD/Parent_Petition/\">http://www.doe.nv.gov/ASD/Parent_Petition/</a>, <a href=\"http://www.camelback.net\" onclick=\"window.open('http://www.camelback.net/?t=' + window.location.host); return false;\" target=\"_blank\">liveSite</a>, <a href=\"http://www.mineral.k12.nv.us/pages/curriculum\">Curriculum</a>, <a href=\"/pages/Employment\">Employment</a>, <a href=\"/pages/Accountability\">Accountability</a>, <a href=\"https://nvcloud1.infinitecampus.org/campus/mineral.jsp\">Infinite Campus for Teachers and Administrators</a>, <a href=\"/pages/Grants\">Grants</a>, <a href=\"/pages/Links\">Links</a>, <a href=\"/pages/Schools\">Schools</a>, <a href=\"/pages/Schools\"></a>, <a href=\"/pages/HESUPDATED\">Hawthorne Elementary School PK-6</a>, <a href=\"/pages/HJHS\">Hawthorne Junior High School 7-8</a>, <a href=\"/pages/MCHS\"><span style=\"font-family: arial, helvetica, sans-serif;\">Mineral County HS</span></a>, <a href=\"/pages/SES\">Schurz K-6</a>, <a href=\"/pages/SES\"><span><br/></span></a>, <a href=\"/pages/Adult_Ed/GED\"><span style=\"color: #000000; font-family: arial, helvetica, sans-serif;\"><strong>Adult Education</strong></span></a>, <a href=\"/pages/HESUPDATED\"><strong>Hawthorne Elementary School PK-5</strong></a>, <a href=\"/pages/HJHS\"><font color=\"#000000\" face=\"arial,helvetica,sans-serif\"><strong>Hawthorne Junior High School 6-8</strong></font></a>, <a href=\"/pages/MCHS\"><font color=\"#000000\" face=\"arial,helvetica,sans-serif\"><strong>Mineral County HS</strong></font></a>, <a href=\"/pages/SES\"><font color=\"#000000\" face=\"arial,helvetica,sans-serif\"><strong><font color=\"#000000\">Schurz K-8</font></strong> </font></a>, <a href=\"/pages/HESUPDATED\"><strong>Hawthorne Elementary School PK-5</strong></a>, <a href=\"/pages/HJHS\"><font color=\"#000000\" face=\"arial,helvetica,sans-serif\"><strong>Hawthorne Junior High School 6-8</strong></font></a>, <a href=\"/pages/MCHS\"><font color=\"#000000\" face=\"arial,helvetica,sans-serif\"><strong>Mineral County HS</strong></font></a>, <a href=\"/pages/SES\"><font color=\"#000000\" face=\"arial,helvetica,sans-serif\"><strong><font color=\"#000000\">Schurz K-8</font></strong> </font></a>, <a href=\"/pages/career2\" title=\"Career Exploring\">Career Exploration</a>, <a href=\"/files/Student_Planning_Folder.pdf\">Education Plan</a>, <a href=\"/pages/career\">Career Planning</a>, <a href=\"/pages/Student_Resources\">Student Resources</a>, <a href=\"/pages/GEAR_UP\">GEAR UP</a>, <a href=\"https://nvcloud1.infinitecampus.org/campus/portal/mineral.jsp\">Infinite Campus Parent/Student Logon</a>, <a href=\"/files/Student_Planning_Folder.pdf\">Education Plan</a>, <a href=\"/pages/career\">Career Planning</a>, <a href=\"/pages/faculty_directory\">Teacher Pages</a>, <a href=\"/files/2016-17_4_Day_Calendar.pdf\">16-17 School Calendar 4 Day</a>, <a href=\"/files/2016-17_5_Day_Calendar.pdf\">16-17 School Calendar 5 Day</a>, <a href=\"/pages/School_Board_Connection\">School Board</a>, <a href=\"/pages/School_Board_Agendas\">School Board Meeting Agendas</a>, <a href=\"/pages/School_Board_Minutes\">School Board Meeting Minutes</a>]\n"
     ]
    }
   ],
   "source": [
    "items = doc.find_all('a')\n",
    "\n",
    "print(items)"
   ]
  },
  {
   "cell_type": "code",
   "execution_count": 16,
   "metadata": {},
   "outputs": [],
   "source": [
    "import pandas"
   ]
  },
  {
   "cell_type": "code",
   "execution_count": 17,
   "metadata": {},
   "outputs": [],
   "source": [
    "import pandas as pd\n"
   ]
  },
  {
   "cell_type": "code",
   "execution_count": 18,
   "metadata": {},
   "outputs": [],
   "source": [
    "df = pd.DataFrame(items)\n"
   ]
  },
  {
   "cell_type": "code",
   "execution_count": 20,
   "metadata": {},
   "outputs": [],
   "source": [
    "df.to_csv(\"minutes.csv\", index=False)\n"
   ]
  },
  {
   "cell_type": "code",
   "execution_count": null,
   "metadata": {},
   "outputs": [],
   "source": []
  }
 ],
 "metadata": {
  "kernelspec": {
   "display_name": "Python 3",
   "language": "python",
   "name": "python3"
  },
  "language_info": {
   "codemirror_mode": {
    "name": "ipython",
    "version": 3
   },
   "file_extension": ".py",
   "mimetype": "text/x-python",
   "name": "python",
   "nbconvert_exporter": "python",
   "pygments_lexer": "ipython3",
   "version": "3.7.3"
  }
 },
 "nbformat": 4,
 "nbformat_minor": 2
}
